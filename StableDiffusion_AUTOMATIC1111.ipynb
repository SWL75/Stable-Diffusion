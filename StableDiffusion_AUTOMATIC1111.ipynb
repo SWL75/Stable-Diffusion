{
  "cells": [
    {
      "cell_type": "markdown",
      "metadata": {
        "id": "view-in-github",
        "colab_type": "text"
      },
      "source": [
        "<a href=\"https://colab.research.google.com/github/SWL75/Stable-Diffusion/blob/main/StableDiffusion_AUTOMATIC1111.ipynb\" target=\"_parent\"><img src=\"https://colab.research.google.com/assets/colab-badge.svg\" alt=\"Open In Colab\"/></a>"
      ]
    },
    {
      "cell_type": "markdown",
      "source": [
        "Googleドライブのデータをこのノートブックへマウント（接続）\n",
        "\n",
        "※Googleドライブにある、checkpoint、LoRA、VAE、Embedding、ControlNet用のツールモデル等を参照できるようにする\n",
        "\n",
        "WEB-UIの起動準備と拡張機能のインストール"
      ],
      "metadata": {
        "id": "LrBqyqjjT1s9"
      }
    },
    {
      "cell_type": "code",
      "execution_count": null,
      "metadata": {
        "id": "lHzMJ9F3O2jD"
      },
      "outputs": [],
      "source": [
        "import os\n",
        "import shutil\n",
        "from google.colab import drive\n",
        "import subprocess\n",
        "\n",
        "drive.mount('/content/drive')\n",
        "\n",
        "!pip uninstall --yes torch torchaudio torchvision torchtext\n",
        "!pip install torch==2.2.2 torchvision==0.17.2 torchaudio==2.2.2\n",
        "!pip install xformers==0.0.25.post1 --index-url https://download.pytorch.org/whl/cu121\n",
        "\n",
        "%cd /content/\n",
        "\n",
        "!git clone https://github.com/AUTOMATIC1111/stable-diffusion-webui\n",
        "%cd /content/stable-diffusion-webui\n",
        "githubUrls = {\n",
        "    'extensions': [\n",
        "        'https://github.com/butaixianran/Stable-Diffusion-Webui-Civitai-Helper',\n",
        "        'https://github.com/AI-Creators-Society/stable-diffusion-webui-localization-ja_JP',\n",
        "        'https://github.com/Mikubill/sd-webui-controlnet',\n",
        "        'https://github.com/AlUlkesh/stable-diffusion-webui-images-browser',\n",
        "        'https://github.com/Physton/sd-webui-prompt-all-in-one',\n",
        "        'https://github.com/Bing-su/adetailer',\n",
        "\n",
        "\n",
        "    ]\n",
        "}\n",
        "\n",
        "folder_path = '/content/stable-diffusion-webui/'\n",
        "\n",
        "for category, urls in githubUrls.items():\n",
        "    destination = folder_path+category\n",
        "    for url in urls:\n",
        "\n",
        "        repo_name = url.split('/')[-1]\n",
        "        clone_path = os.path.join(destination, repo_name)\n",
        "        if not os.path.exists(clone_path):\n",
        "            subprocess.call(['git', 'clone', url, clone_path])\n",
        "        else:\n",
        "            print(f'{repo_name}はすでにダウンロードされています。 再度ダウンロードする必要がある場合は該当ファイルを削除してください。\\n')\n",
        "paths = {\n",
        "    '/content/drive/MyDrive/StableDiffusion/CheckPoint': '/content/stable-diffusion-webui/models/Stable-diffusion',\n",
        "    '/content/drive/MyDrive/StableDiffusion/Embeddings': '/content/stable-diffusion-webui/embeddings',\n",
        "    '/content/drive/MyDrive/StableDiffusion/Lora': '/content/stable-diffusion-webui/models/Lora',\n",
        "    '/content/drive/MyDrive/StableDiffusion/VAE': '/content/stable-diffusion-webui/models/VAE',\n",
        "    '/content/drive/MyDrive/StableDiffusion/ControlNet': '/content/stable-diffusion-webui/models/ControlNet',\n",
        "    '/content/drive/MyDrive/StableDiffusion/Config/config.json': '/content/stable-diffusion-webui/config.json',\n",
        "    '/content/drive/MyDrive/StableDiffusion/Config/styles.csv':'/content/stable-diffusion-webui/styles.csv',\n",
        "}\n",
        "\n",
        "for path, link_path in paths.items():\n",
        "    if not os.path.exists(path):\n",
        "        print(f'リンク元のパスが存在しません: {path}')\n",
        "        continue;\n",
        "    if os.path.exists(link_path):\n",
        "\n",
        "        if os.path.islink(link_path):\n",
        "            continue\n",
        "        elif os.path.isfile(link_path):\n",
        "            os.remove(link_path)\n",
        "        else:\n",
        "            shutil.rmtree(link_path)\n",
        "\n",
        "\n",
        "    !ln -s $path $link_path\n",
        "\n",
        "!pip install insightface==0.7.3\n",
        "!pip install gradio_client==0.2.7\n",
        "\n",
        "!pip install fonts\n",
        "!pip install font-roboto"
      ]
    },
    {
      "cell_type": "markdown",
      "metadata": {
        "id": "ARRiF6u5Ei6A"
      },
      "source": [
        "\n",
        "WEB-UIの起動\n",
        "↓の（▶）で WEB-UIの「起動」「停止」「再起動」を操作します。"
      ]
    },
    {
      "cell_type": "code",
      "execution_count": null,
      "metadata": {
        "id": "QgBh9M38Ex0b"
      },
      "outputs": [],
      "source": [
        "%cd /content/stable-diffusion-webui\n",
        "!python launch.py --share --xformers --enable-insecure-extension-access"
      ]
    },
    {
      "cell_type": "markdown",
      "metadata": {
        "id": "KLzVHyJDf6zq"
      },
      "source": [
        "生成したデータ「Outputデータ」をGoogleドライブへコピー"
      ]
    },
    {
      "cell_type": "code",
      "execution_count": null,
      "metadata": {
        "id": "fIorwLcpUJqu"
      },
      "outputs": [],
      "source": [
        "import os\n",
        "\n",
        "output_folder = \"/content/stable-diffusion-webui/output\"\n",
        "fallback_folder = \"/content/stable-diffusion-webui/outputs\"\n",
        "zip_file = \"/content/sd_output.zip\"\n",
        "\n",
        "if os.path.exists(output_folder):\n",
        "    !zip -r {zip_file} {output_folder}\n",
        "elif os.path.exists(fallback_folder):\n",
        "    !zip -r {zip_file} {fallback_folder}\n",
        "else:\n",
        "    print(f\"Neither '{output_folder}' nor '{fallback_folder}' found.\")\n",
        "\n",
        "if os.path.exists(zip_file):\n",
        "    from google.colab import files\n",
        "    files.download(zip_file)"
      ]
    }
  ],
  "metadata": {
    "accelerator": "GPU",
    "colab": {
      "gpuType": "T4",
      "provenance": [],
      "machine_shape": "hm",
      "authorship_tag": "ABX9TyPks2nJhJYdz3dplQXbyXSQ",
      "include_colab_link": true
    },
    "kernelspec": {
      "display_name": "Python 3",
      "name": "python3"
    },
    "language_info": {
      "name": "python"
    }
  },
  "nbformat": 4,
  "nbformat_minor": 0
}